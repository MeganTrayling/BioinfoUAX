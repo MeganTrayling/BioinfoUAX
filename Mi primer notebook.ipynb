{
 "cells": [
  {
   "cell_type": "markdown",
   "id": "2c8a1537",
   "metadata": {},
   "source": [
    "# TRABAJO 1\n",
    "### Este trabajo es una prueba\n",
    "\n",
    "Aquí puedo hacer lo siguiente\n",
    "1. Escribir comentarios, texto, etc. \n",
    "2. Correr cualquier instruccion de bash como `conda env list` para ver si está el ambiente de mi clase\n",
    "3. Meter una imagen\n",
    "4. Ejecutar código"
   ]
  },
  {
   "cell_type": "code",
   "execution_count": 1,
   "id": "d727bd82",
   "metadata": {},
   "outputs": [
    {
     "name": "stdout",
     "output_type": "stream",
     "text": [
      "hola\n"
     ]
    }
   ],
   "source": [
    "print (\"hola\")"
   ]
  },
  {
   "cell_type": "markdown",
   "id": "eeaa946e",
   "metadata": {},
   "source": [
    "<img width=\"400\" src=\"mapache.jfif\">"
   ]
  }
 ],
 "metadata": {
  "kernelspec": {
   "display_name": "Python 3 (ipykernel)",
   "language": "python",
   "name": "python3"
  },
  "language_info": {
   "codemirror_mode": {
    "name": "ipython",
    "version": 3
   },
   "file_extension": ".py",
   "mimetype": "text/x-python",
   "name": "python",
   "nbconvert_exporter": "python",
   "pygments_lexer": "ipython3",
   "version": "3.11.4"
  }
 },
 "nbformat": 4,
 "nbformat_minor": 5
}
