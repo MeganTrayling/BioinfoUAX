{
 "cells": [
  {
   "cell_type": "markdown",
   "metadata": {},
   "source": [
    "# TRABAJO DE PYTHON\n",
    "\n",
    "### Este trabajo cuenta el 30% de la nota. La entrega será el 5 de Noviembre a las 23:59.\n",
    "\n",
    "### Resuelve los siguientes ejercicios en Python sin usar expresiones regulares\n",
    "\n",
    "#### Utiliza tantas celdas de código como necesites\n",
    "\n",
    "##\n",
    "\n",
    "\n",
    "\n",
    "\n",
    "\n",
    "\n",
    "\n"
   ]
  },
  {
   "cell_type": "markdown",
   "metadata": {},
   "source": [
    "### 1.- BUSCA LA SECUENCIA COMPLEMENTARIA\n",
    "#### Devuelve la secuencia complementaria de la siguiente secuencia de ADN"
   ]
  },
  {
   "cell_type": "code",
   "execution_count": 1,
   "metadata": {},
   "outputs": [],
   "source": [
    "my_dna = \"ACTGATCGATTACGTATAGTATTTGCTATCATACATATATATCGATGCGTTCAT\""
   ]
  },
  {
   "cell_type": "code",
   "execution_count": 2,
   "metadata": {},
   "outputs": [
    {
     "name": "stdout",
     "output_type": "stream",
     "text": [
      "Secuencia original: ACTGATCGATTACGTATAGTATTTGCTATCATACATATATATCGATGCGTTCAT\n",
      "Secuencia complementaria: TGACTAGCTAATGCATATCATAAACGATAGTATGTATATATAGCTACGCAAGTA\n"
     ]
    }
   ],
   "source": [
    "def complemento_secuencia_adn(my_dna):\n",
    "    complemento = \"\"\n",
    "    for base in my_dna:\n",
    "        if base == 'A':\n",
    "            complemento += 'T' #Si la base es 'A', agrega 'T' al complemento\n",
    "        elif base == 'T':\n",
    "            complemento += 'A' #Si la base es 'T', agrega 'A' al complemento\n",
    "        elif base == 'C':\n",
    "            complemento += 'G' #Si la base es 'C', agrega 'G' al complemento\n",
    "        elif base == 'G':\n",
    "            complemento += 'C' #Si la base es 'G', agrega 'C' al complemento\n",
    "        else:\n",
    "            complemento += base  #Si la base no es ninguna de las anteriores, la mantiene en el complemento\n",
    "    return complemento # Devuelve la secuencia complementaria\n",
    "\n",
    "secuencia_complementaria = complemento_secuencia_adn(my_dna)  # Llama a la función para obtener la secuencia complementaria\n",
    "print(\"Secuencia original:\", my_dna) # Imprime secuencia original\n",
    "print(\"Secuencia complementaria:\", secuencia_complementaria) # Imprime la secuencia complementaria\n"
   ]
  },
  {
   "cell_type": "markdown",
   "metadata": {},
   "source": [
    "##\n",
    "### 2.- FRAGMENTOS DE RESTRICCION\n",
    "#### Obtén los fragmentos de restricción de EcoRI, que tiene un sitio de corte en G*AATTC (la posición de corte se indica por el *).\n",
    "#### No uses expresiones regulares. \n",
    "#### Pista: utiliza la función find()"
   ]
  },
  {
   "cell_type": "code",
   "execution_count": 3,
   "metadata": {
    "scrolled": true
   },
   "outputs": [],
   "source": [
    "my_dna = \"ACTGATCGATTACGTATAGTATTTGCTATGAATTCCATACATATATATCGATGCGTTCAT\""
   ]
  },
  {
   "cell_type": "code",
   "execution_count": 4,
   "metadata": {},
   "outputs": [
    {
     "name": "stdout",
     "output_type": "stream",
     "text": [
      "Fragmento 1: ACTGATCGATTACGTATAGTATTTGCTATG\n",
      "Fragmento 2: AATTCCATACATATATATCGATGCGTTCAT\n"
     ]
    }
   ],
   "source": [
    "# Definimos la secuencia de ADN\n",
    "my_dna = \"ACTGATCGATTACGTATAGTATTTGCTATGAATTCCATACATATATATCGATGCGTTCAT\"\n",
    "# Especificamos el sitio de corte de EcoRI\n",
    "ecori_site = \"GAATTC\"  # El sitio de corte de EcoRI\n",
    "\n",
    "# Buscamos el primer sitio de corte de EcoRI en la secuencia\n",
    "first_cut = my_dna.find(ecori_site)\n",
    "\n",
    "# Comprobamos si se encontró el sitio de corte\n",
    "if first_cut != -1:\n",
    "    # Extraemos el fragmento 1, que incluye la \"G\" del sitio de corte, pero excluye \"AATTC\"\n",
    "    fragment1 = my_dna[:first_cut + 1]\n",
    "    # Extraemos el fragmento 2 comenzando con \"AATTC\" del sitio de corte\n",
    "    fragment2 = my_dna[first_cut + len(\"G\"):]\n",
    "        \n",
    "    # Imprimimos los fragmentos resultantes\n",
    "    print(\"Fragmento 1:\", fragment1)\n",
    "    print(\"Fragmento 2:\", fragment2)\n",
    "else:\n",
    "    print(\"No se encontró el sitio de corte de EcoRI en la secuencia.\")\n"
   ]
  },
  {
   "cell_type": "markdown",
   "metadata": {},
   "source": [
    "##\n",
    "### 3.- ENCUENTRA LOS EXONES\n",
    "#### Encuentra los exones en la siguiente secuencia\n",
    "1. El primer exón va de la primera base a la base 63 (empieza a contar desde 0)\n",
    "2. El segundo exón va de la base 91 (contando desde 0) hasta el final\n",
    "3. Calcula el porcentaje de secuencia codificante\n",
    "4. Imprime en pantalla la secuencia original con los exones en mayúsculas y los intrones en minúsculas"
   ]
  },
  {
   "cell_type": "code",
   "execution_count": 5,
   "metadata": {},
   "outputs": [],
   "source": [
    "genomic_dna = \"ATCGATCGATCGATCGACTGACTAGTCATAGCTATGCATGTAGCTACTCGATCGATCGATCGATCGATCGATCGATCGATCGATCATGCTATCATCGATCGATATCGATGCATCGACTACTAT\""
   ]
  },
  {
   "cell_type": "code",
   "execution_count": 6,
   "metadata": {},
   "outputs": [
    {
     "name": "stdout",
     "output_type": "stream",
     "text": [
      "Secuencia original:\n",
      "ATCGATCGATCGATCGACTGACTAGTCATAGCTATGCATGTAGCTACTCGATCGATCGATCGAtcgatcgatcgatcgatcgatcatgctaTCATCGATCGATATCGATGCATCGACTACTAT\n",
      "Porcentaje de secuencia codificante: 77.24%\n"
     ]
    }
   ],
   "source": [
    "# Define los límites de los exones\n",
    "exon1_start = 0\n",
    "exon1_end = 63\n",
    "exon2_start = 91\n",
    "\n",
    "# Extrae los exones e intrones\n",
    "exon1 = genomic_dna[exon1_start:exon1_end] #Extrae primer exon\n",
    "exon2 = genomic_dna[exon2_start:] #Extrae segundo exon\n",
    "intron1 = genomic_dna[exon1_end:exon2_start] #Extrae intron entre los exones\n",
    "\n",
    "# Calcula el porcentaje de secuencia codificante\n",
    "total_length = len(genomic_dna) #Longitud total de la secuencia genomica\n",
    "coding_length = len(exon1) + len(exon2) #Longitud de los exones, que es la secuencia codificante\n",
    "coding_percentage = (coding_length / total_length) * 100 #Porcentaje secuencia codificante\n",
    "\n",
    "# Convierte los exones a mayúsculas y los intrones a minúsculas\n",
    "genomic_sequence = genomic_dna[:exon1_start] + exon1.upper() + intron1.lower() + exon2.upper() # Combina los exones en mayúsculas y el intrón en minúsculas en la secuencia genómica\n",
    "\n",
    "\n",
    "# Imprime la secuencia original con formato\n",
    "print(\"Secuencia original:\")\n",
    "print(genomic_sequence)# Imprime la secuencia genómica con exones en mayúsculas e intrones en minúsculas\n",
    "print(f\"Porcentaje de secuencia codificante: {coding_percentage:.2f}%\") # Imprime el porcentaje de secuencia codificante con 2 decimales\n"
   ]
  },
  {
   "cell_type": "markdown",
   "metadata": {},
   "source": [
    "##\n",
    "### 4.- ESCRIBE UN ARCHIVO FASTA\n",
    "#### Escribe un archivo FASTA que tenga las siguientes secuencias:\n",
    "1. ABC123 \tATCGTACGATCGATCGATCGCTAGACGTATCG\n",
    "2. DEF456 \tactgatcgacgatcgatcgatcacgact\n",
    "3. HIJ789 \tACTGAC-ACTGT--ACTGTA----CATGTG\n",
    "\n",
    "###### *Ten en cuenta que todas las secuencias deben tener solo ATGC caracteres y tienen que estar en mayúsculas\n",
    "###### Recuerda que las secuencias en FASTA empiezan por una línea \">identificador\" y la siguiente línea tiene la secuencia\n",
    "\n",
    "###### >ABC123\n",
    "###### ATCGTACGATCGATCGATCGCTAGACGTATCG\n",
    "###### >DEF456\n",
    "###### ACTGATCGACGATCGATCGATCACGACT\n",
    "###### >HIJ789\n",
    "###### ACTGACACTGTACTGTACATGTG"
   ]
  },
  {
   "cell_type": "code",
   "execution_count": 7,
   "metadata": {},
   "outputs": [
    {
     "name": "stdout",
     "output_type": "stream",
     "text": [
      "ABC123\n",
      "ATCGTACGATCGATCGATCGCTAGACGTATCG\n",
      "DEF456\n",
      "actgatcgacgatcgatcgatcacgact\n",
      "HIJ789\n",
      "ACTGAC-ACTGT--ACTGTA----CATGTG\n"
     ]
    }
   ],
   "source": [
    "d={\n",
    "    'ABC123' :'ATCGTACGATCGATCGATCGCTAGACGTATCG',\n",
    "    'DEF456' : 'actgatcgacgatcgatcgatcacgact',\n",
    "    'HIJ789' : 'ACTGAC-ACTGT--ACTGTA----CATGTG'\n",
    "}\n",
    "\n",
    "for key in d.keys():\n",
    "    print(key)\n",
    "    print(d[key])"
   ]
  },
  {
   "cell_type": "code",
   "execution_count": 8,
   "metadata": {},
   "outputs": [],
   "source": [
    "# Definir las secuencias y sus identificadores\n",
    "secuencias = {\n",
    "    \"ABC123\": \"ATCGTACGATCGATCGATCGCTAGACGTATCG\",\n",
    "    \"DEF456\": \"ACTGATCGACGATCGatcgatcacgact\",  # Convertir a mayúsculas\n",
    "    \"HIJ789\": \"ACTGAC-ACTGT--ACTGTA----CATGTG\"\n",
    "}\n",
    "\n",
    "# Función para limpiar y formatear la secuencia\n",
    "def limpiar_secuencia(secuencia): #Convierte la secuencia en mayúsuclas y elimina los caracteres no validos \n",
    "    secuencia = secuencia.upper()  # Convertir a mayúsculas\n",
    "    secuencia_fasta = \"\"\n",
    "    for base in secuencia: #Bucle for apra recorrer el diccionario \n",
    "        if base in \"ATGC\":\n",
    "            secuencia_fasta += base  # Solo caracteres válidos (ATGC)\n",
    "    return secuencia_fasta\n",
    "\n",
    "# Crear y escribir en el archivo FASTA, poniendo el identificador en la primera linea con \">\" y la secuencia en la siguiente linea\n",
    "with open(\"secuencias.fasta\", \"w\") as archivo_fasta:\n",
    "    for identificador, secuencia in secuencias.items():\n",
    "        secuencia_fasta = limpiar_secuencia(secuencia)\n",
    "        archivo_fasta.write(f\">{identificador}\\n{secuencia_fasta}\\n\")\n"
   ]
  },
  {
   "cell_type": "markdown",
   "metadata": {},
   "source": [
    "##\n",
    "### 5.- ELIMINA ADAPTADORES\n",
    "#### El archivo input.txt tiene unas secuencias de ADN, una por línea. \n",
    "#### Todas las secuencias empiezan con el mismo adaptador que llega hasta la base 14. Escribe un programa que:\n",
    "1. Remueva el adaptador de la secuencia y escriba la secuencia limpia en un archivo\n",
    "2. Imprima en pantalla la longitud de cada secuencia limpia"
   ]
  },
  {
   "cell_type": "code",
   "execution_count": 9,
   "metadata": {},
   "outputs": [
    {
     "name": "stdout",
     "output_type": "stream",
     "text": [
      "Secuencias limpias: TCGATCGATCGATCGATCGATCGATCGATCGATCGATCGATC\n",
      "Longitud de la secuencia limpia: 42\n",
      "Secuencias limpias: ACTGATCGATCGATCGATCGATCGATGCTATCGTCGT\n",
      "Longitud de la secuencia limpia: 37\n",
      "Secuencias limpias: ATCGATCACGATCTATCGTACGTATGCATATCGATATCGATCGTAGTC\n",
      "Longitud de la secuencia limpia: 48\n",
      "Secuencias limpias: ACTATCGATGATCTAGCTACGATCGTAGCTGTA\n",
      "Longitud de la secuencia limpia: 33\n",
      "Secuencias limpias: ACTAGCTAGTCTCGATGCATGATCAGCTTAGCTGATGATGCTATGCA\n",
      "Longitud de la secuencia limpia: 47\n"
     ]
    }
   ],
   "source": [
    "# Leer el archivo de entrada\n",
    "with open(\"input.txt\", \"r\") as archivo_entrada:\n",
    "    lineas = archivo_entrada.readlines() # Lee todas las líneas del archivo de entrada y las almacena en una lista\n",
    "\n",
    "# Crear un archivo para almacenar las secuencias limpias\n",
    "with open(\"secuencias_limpias.txt\", \"w\") as archivo_salida:\n",
    "    for linea in lineas:\n",
    "        # Quitar el adaptador hasta la base 14\n",
    "        secuencias_limpias = linea[14:].strip()  # .strip() elimina los caracteres de nueva línea\n",
    "\n",
    "        # Escribir la secuencia limpia en el archivo de salida\n",
    "        archivo_salida.write(secuencias_limpias + \"\\n\")  # Escribe la secuencia limpia en el archivo de salida\n",
    "\n",
    "        # Imprimir en pantalla la longitud de la secuencia limpia junto con la secuencia limpia\n",
    "        print(f\"Secuencias limpias: {secuencias_limpias}\")  # Imprime la secuencia limpia\n",
    "        print(f\"Longitud de la secuencia limpia: {len(secuencias_limpias)}\") # Imprime la longitud de la secuencia limpia\n"
   ]
  },
  {
   "cell_type": "code",
   "execution_count": 10,
   "metadata": {},
   "outputs": [],
   "source": [
    "archivo_entrada.close()\n",
    "archivo_salida.close()\n",
    "#Cerrar los archivos"
   ]
  },
  {
   "cell_type": "markdown",
   "metadata": {},
   "source": [
    "##\n",
    "### 6.- PORCENTAJE DE AMINO ACIDOS\n",
    "#### Escribe una función que tome dos argumentos: una secuencia de proteínas y un amino ácido. \n",
    "#### Queremos que devuelva el porcentaje del amino ácido en la secuencia de proteínas. \n",
    "#### Una vez que tengas hecha tu función, emplea las siguientes aserciones para comprobar tu código."
   ]
  },
  {
   "cell_type": "code",
   "execution_count": 11,
   "metadata": {},
   "outputs": [
    {
     "name": "stdout",
     "output_type": "stream",
     "text": [
      "El porcentaje de M es 5.00%\n",
      "El porcentaje de R es 10.00%\n",
      "El porcentaje de L es 50.00%\n",
      "El porcentaje de Y es 0.00%\n"
     ]
    }
   ],
   "source": [
    "def mi_funcion(secuencia_proteina, aminoacido):\n",
    "    # Convierte la secuencia de proteínas y el aminoácido a mayúsculas\n",
    "    secuencia_proteina = secuencia_proteina.upper() # Convierte la secuencia de proteínas a mayúsculas\n",
    "    aminoacido = aminoacido.upper() # Convierte el aminoácido a mayúsculas\n",
    "    \n",
    "    # Cuenta la cantidad de ocurrencias del aminoácido en la secuencia de proteínas\n",
    "    conteo_aminoacido = secuencia_proteina.count(aminoacido) # Cuenta las ocurrencias del aminoácido\n",
    "    longitud_secuencia = len(secuencia_proteina) # Obtiene la longitud de la secuencia de proteínas\n",
    "    \n",
    "    # Calcula el porcentaje\n",
    "    if longitud_secuencia == 0:\n",
    "        return 0.0 #Si la secuencia no tiene nada, que nos diga que el porcentaje es 0\n",
    "    porcentaje = (conteo_aminoacido / longitud_secuencia) * 100  # Calcula el porcentaje\n",
    "    return porcentaje  \n",
    "# Llama a la funcion con los datos proporcionados y nos da el resultado de cada una de ellas, para ver si está bien. Este paso no sería necesario, porque al hacer las aserciones ya nos sale que son correctas\n",
    "resultado=mi_funcion (\"MSRSLLLRFLLFLLLLPPLP\", \"M\")\n",
    "print (f\"El porcentaje de M es {resultado:.2f}%\")\n",
    "\n",
    "resultado=mi_funcion (\"MSRSLLLRFLLFLLLLPPLP\", \"r\")\n",
    "print (f\"El porcentaje de R es {resultado:.2f}%\")\n",
    "\n",
    "resultado=mi_funcion (\"msrslllrfllfllllpplp\", \"L\")\n",
    "print (f\"El porcentaje de L es {resultado:.2f}%\")\n",
    "\n",
    "resultado=mi_funcion (\"MSRSLLLRFLLFLLLLPPLP\", \"Y\")\n",
    "print (f\"El porcentaje de Y es {resultado:.2f}%\")\n"
   ]
  },
  {
   "cell_type": "code",
   "execution_count": 13,
   "metadata": {},
   "outputs": [],
   "source": [
    "# Pruebas con las aserciones, verifica si la función produce el resultado esperado para cada aminoácido\n",
    "assert mi_funcion(\"MSRSLLLRFLLFLLLLPPLP\", \"M\") == 5\n",
    "assert mi_funcion(\"MSRSLLLRFLLFLLLLPPLP\", \"r\") == 10\n",
    "assert mi_funcion(\"msrslllrfllfllllpplp\", \"L\") == 50\n",
    "assert mi_funcion(\"MSRSLLLRFLLFLLLLPPLP\", \"Y\") == 0\n",
    "\n",
    "#Al no salir nada podemos comprobar que está bien y que coincide con lo anterior"
   ]
  }
 ],
 "metadata": {
  "kernelspec": {
   "display_name": "Python 3 (ipykernel)",
   "language": "python",
   "name": "python3"
  },
  "language_info": {
   "codemirror_mode": {
    "name": "ipython",
    "version": 3
   },
   "file_extension": ".py",
   "mimetype": "text/x-python",
   "name": "python",
   "nbconvert_exporter": "python",
   "pygments_lexer": "ipython3",
   "version": "3.11.4"
  }
 },
 "nbformat": 4,
 "nbformat_minor": 4
}
